{
 "cells": [
  {
   "cell_type": "markdown",
   "metadata": {},
   "source": [
    "# A+B - 4\n",
    "\n",
    "## 문제\n",
    "두 정수 A와 B를 입력받은 다음, A+B를 출력하는 프로그램을 작성하시오.\n",
    "\n",
    "### 입력\n",
    "입력은 여러 개의 테스트 케이스로 이루어져 있다.\n",
    "\n",
    "각 테스트 케이스는 한 줄로 이루어져 있으며, 각 줄에 A와 B가 주어진다. (0 < A, B < 10)\n",
    "\n",
    "### 출력\n",
    "각 테스트 케이스마다 A+B를 출력한다.\n",
    "\n",
    "#### 예제 입력 1 \n",
    "```\n",
    "1 1\n",
    "2 3\n",
    "3 4\n",
    "9 8\n",
    "5 2\n",
    "```\n",
    "#### 예제 출력 1 \n",
    "```\n",
    "2\n",
    "5\n",
    "7\n",
    "17\n",
    "7\n",
    "```\n",
    "### 알고리즘 분류\n",
    "- 수학\n",
    "- 구현\n",
    "- 사칙연산\n",
    "\n",
    "---"
   ]
  },
  {
   "cell_type": "markdown",
   "metadata": {},
   "source": [
    "- https://www.acmicpc.net/board/view/74413\n",
    "    - EOF 대해서 알아보세요\n",
    "- https://www.acmicpc.net/board/view/76108\n",
    "    - 예외 처리를 하는 코드가 왜 동작하는지 이유를 생각해 보면 지금 코드가 동작하지 않는 이유도 알 수 있습니다.\n",
    "예외 처리를 하는 코드가 동작하는 이유는 EOF를 만났을 때 input()이 EOFError를 던지기 때문인데, 이 순간 예외를 받아내는 try - except 문이 없으면 그대로 런타임 에러로 이어질 수밖에 없습니다. \n",
    "    - sys.stdin.readlines를 쓰면 예외처리가 필요없습니다\n",
    "- EOF 입력 방법: Ctrl+D (Linux/Mac) 또는 Ctrl+Z (Windows)를 사용 ```-> ......? 근데 왜 안먹히지요```\n",
    "\n",
    "---"
   ]
  },
  {
   "cell_type": "code",
   "execution_count": 3,
   "metadata": {},
   "outputs": [
    {
     "name": "stdout",
     "output_type": "stream",
     "text": [
      "EOF\n",
      "2\n",
      "5\n",
      "7\n",
      "17\n",
      "7\n"
     ]
    }
   ],
   "source": [
    "cases = []\n",
    "while True:\n",
    "    try:\n",
    "        cases.append(list(map(int, input().split())))\n",
    "    except:\n",
    "        break\n",
    "for i in range (len(cases)):\n",
    "    print(cases[i][0] + cases[i][1])"
   ]
  },
  {
   "cell_type": "markdown",
   "metadata": {},
   "source": [
    "---\n",
    "```맞았습니다!!```"
   ]
  },
  {
   "cell_type": "code",
   "execution_count": null,
   "metadata": {},
   "outputs": [],
   "source": []
  }
 ],
 "metadata": {
  "kernelspec": {
   "display_name": "myenv",
   "language": "python",
   "name": "python3"
  },
  "language_info": {
   "codemirror_mode": {
    "name": "ipython",
    "version": 3
   },
   "file_extension": ".py",
   "mimetype": "text/x-python",
   "name": "python",
   "nbconvert_exporter": "python",
   "pygments_lexer": "ipython3",
   "version": "3.11.9"
  }
 },
 "nbformat": 4,
 "nbformat_minor": 2
}
