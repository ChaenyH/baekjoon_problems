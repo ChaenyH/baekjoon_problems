{
 "cells": [
  {
   "cell_type": "markdown",
   "metadata": {},
   "source": [
    "# 최대공약수와 최소공배수\n",
    " \n",
    "- 시간 제한: 1 초\n",
    "\n",
    "## 문제\n",
    "두 개의 자연수를 입력받아 최대 공약수와 최소 공배수를 출력하는 프로그램을 작성하시오.\n",
    "\n",
    "### 입력\n",
    "첫째 줄에는 두 개의 자연수가 주어진다. <br>\n",
    "이 둘은 10,000이하의 자연수이며 사이에 한 칸의 공백이 주어진다.\n",
    "\n",
    "### 출력\n",
    "첫째 줄에는 입력으로 주어진 두 수의 최대공약수를, 둘째 줄에는 입력으로 주어진 두 수의 최소 공배수를 출력한다.\n",
    "\n",
    "#### 예제 입력 1 \n",
    "```24 18```\n",
    "#### 예제 출력 1 \n",
    "```\n",
    "6\n",
    "72\n",
    "```\n",
    "\n",
    "### 알고리즘 분류\n",
    "- 수학\n",
    "- 정수론\n",
    "- 유클리드 호제법\n",
    "\n",
    "---"
   ]
  },
  {
   "cell_type": "markdown",
   "metadata": {},
   "source": [
    "### 유클리드 호제법(Euclidean algorithm)\n",
    "- 두 정수의 최대공약수(GCD, Greatest Common Divisor)를 구하는 효율적인 알고리즘\n",
    "- 두 수  a 와  b 가 있을 때,  a 를  b 로 나눈 나머지를  r 라고 하면,  a 와  b 의 최대공약수는  b 와  r 의 최대공약수와 같다는 원리를 기반으로 함.\n",
    "\n",
    "---"
   ]
  },
  {
   "cell_type": "code",
   "execution_count": 4,
   "metadata": {},
   "outputs": [
    {
     "name": "stdout",
     "output_type": "stream",
     "text": [
      "18 6\n",
      "6 0\n",
      "6\n",
      "72\n"
     ]
    }
   ],
   "source": [
    "A, B = map(int, input().split())\n",
    "multi = A*B\n",
    "\n",
    "while True:\n",
    "    if B != 0:\n",
    "        A, B = B, A%B\n",
    "    else:\n",
    "        break\n",
    "print(A)  # divisor\n",
    "print(multi//A)  # multiple"
   ]
  },
  {
   "cell_type": "markdown",
   "metadata": {},
   "source": [
    "---\n",
    "```맞았습니다!!```"
   ]
  },
  {
   "cell_type": "code",
   "execution_count": null,
   "metadata": {},
   "outputs": [],
   "source": []
  }
 ],
 "metadata": {
  "kernelspec": {
   "display_name": "myenv",
   "language": "python",
   "name": "python3"
  },
  "language_info": {
   "codemirror_mode": {
    "name": "ipython",
    "version": 3
   },
   "file_extension": ".py",
   "mimetype": "text/x-python",
   "name": "python",
   "nbconvert_exporter": "python",
   "pygments_lexer": "ipython3",
   "version": "3.11.9"
  }
 },
 "nbformat": 4,
 "nbformat_minor": 2
}
