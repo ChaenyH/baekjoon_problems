{
 "cells": [
  {
   "cell_type": "markdown",
   "metadata": {},
   "source": [
    "# 신용카드 판별\n",
    "- 시간 제한: 1 초\n",
    "\n",
    "## 문제\n",
    "- 신용카드는 총 16자리의 숫자로 구성되어 있다.\n",
    "- 카드 번호가 유효 한지 유효하지 않은 지 검사하는 Luhn 공식은 다음과 같다.\n",
    "\n",
    "1. 신용카드의 16자리 숫자에서 맨 우측 수부터 세어 홀수 번째 수는 그대로 두고, 짝수 번째 수를 2배로 만든다.\n",
    "2. 2배로 만든 짝수 번째 수가 10 이상인 경우, 각 자리의 숫자를 더하고 그 수로 대체한다.\n",
    "3. 이와 같이 얻은 모든 자리의 수를 더한다.\n",
    "4. 그 합이 10으로 나뉘면 “정당한 번호”(유효)이고 그렇지 않으면 “부당한 번호”(유효하지 않음)로 판정된다.\n",
    "\n",
    "- 다음 공식을 이용해 주어진 신용카드의 번호가 유효한지, 유효하지 않은 지 판단해라.\n",
    "\n",
    "---"
   ]
  },
  {
   "cell_type": "code",
   "execution_count": null,
   "metadata": {},
   "outputs": [],
   "source": [
    "import sys\n",
    "input = sys.stdin.readline"
   ]
  },
  {
   "cell_type": "code",
   "execution_count": 1,
   "metadata": {},
   "outputs": [],
   "source": [
    "# 첫째 줄에 테스트 케이스의 수 T(1 ≤ T ≤ 1000)이 주어진다.\n",
    "T = int(input().strip())\n",
    "\n",
    "# 그 다음 줄부터 테스트 케이스에 해당하는 신용카드 번호가 주어진다.\n",
    "cases = []\n",
    "for _ in range (T):\n",
    "    cases.append(input().strip())"
   ]
  },
  {
   "cell_type": "code",
   "execution_count": 6,
   "metadata": {},
   "outputs": [
    {
     "name": "stdout",
     "output_type": "stream",
     "text": [
      "T\n",
      "F\n",
      "T\n"
     ]
    }
   ],
   "source": [
    "# Luhn 유효성 검사 공식 구현\n",
    "for number in cases:\n",
    "    numbers = list(number)\n",
    "    for i in range (16):\n",
    "        if i % 2 == 0:\n",
    "            numbers[i] = int(numbers[i]) * 2\n",
    "            if numbers[i] >= 10:\n",
    "                ab = list(str(numbers[i]))\n",
    "                numbers[i] = int(ab[0]) + int(ab[1])\n",
    "    # print(number)\n",
    "    # print(numbers)\n",
    "    sum = 0\n",
    "\n",
    "    # 신용카드의 번호가 유효하면 “T”, 유효하지 않으면 “F”를 한 줄 씩 출력한다.\n",
    "    for i in range (16):\n",
    "        sum += int(numbers[i])\n",
    "    if sum % 10 == 0:\n",
    "        print(\"T\")\n",
    "    else:\n",
    "        print(\"F\")"
   ]
  },
  {
   "cell_type": "markdown",
   "metadata": {},
   "source": [
    "---\n",
    "```맞았습니다!!```"
   ]
  },
  {
   "cell_type": "code",
   "execution_count": null,
   "metadata": {},
   "outputs": [],
   "source": [
    "\n"
   ]
  }
 ],
 "metadata": {
  "kernelspec": {
   "display_name": "myenv",
   "language": "python",
   "name": "python3"
  },
  "language_info": {
   "codemirror_mode": {
    "name": "ipython",
    "version": 3
   },
   "file_extension": ".py",
   "mimetype": "text/x-python",
   "name": "python",
   "nbconvert_exporter": "python",
   "pygments_lexer": "ipython3",
   "version": "3.11.8"
  }
 },
 "nbformat": 4,
 "nbformat_minor": 2
}
