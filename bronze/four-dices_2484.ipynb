{
 "cells": [
  {
   "cell_type": "markdown",
   "metadata": {},
   "source": [
    "# 주사위 네 개\n",
    "- 시간 제한: 1초\n",
    "\n",
    "## 문제\n",
    "1에서부터 6까지의 눈을 가진 4개의 주사위를 던져서 다음과 같은 규칙에 따라 상금을 받는 게임이 있다. \n",
    "\n",
    "1. 같은 눈이 4개가 나오면 50,000원+(같은 눈)×5,000원의 상금을 받게 된다. \n",
    "2. 같은 눈이 3개만 나오면 10,000원+(3개가 나온 눈)×1,000원의 상금을 받게 된다. \n",
    "3. 같은 눈이 2개씩 두 쌍이 나오는 경우에는 2,000원+(2개가 나온 눈)×500원+(또 다른 2개가 나온 눈)×500원의 상금을 받게 된다.\n",
    "4. 같은 눈이 2개만 나오는 경우에는 1,000원+(같은 눈)×100원의 상금을 받게 된다. \n",
    "5. 모두 다른 눈이 나오는 경우에는 (그 중 가장 큰 눈)×100원의 상금을 받게 된다.  \n",
    "\n",
    "예를 들어, 4개의 눈이 3, 3, 3, 3으로 주어지면 50,000+3×5,000으로 계산되어 65,000원의 상금을 받게 된다. <br>\n",
    "4개의 눈이 3, 3, 6, 3으로 주어지면 상금은 10,000+3×1,000으로 계산되어 13,000원을 받게 된다. <br>\n",
    "또 4개의 눈이 2, 2, 6, 6으로 주어지면 2,000+2×500+6×500으로 계산되어 6,000원을 받게 된다. <br>\n",
    "4개의 눈이 6, 2, 1, 6으로 주어지면 1,000+6×100으로 계산되어 1,600원을 받게 된다. <br>\n",
    "4개의 눈이 6, 2, 1, 5로 주어지면 그 중 가장 큰 값이 6이므로 6×100으로 계산되어 600원을 상금으로 받게 된다.\n",
    "\n",
    "N(1 ≤ N ≤ 1,000)명이 주사위 게임에 참여하였을 때, 가장 많은 상금을 받은 사람의 상금을 출력하는 프로그램을 작성하시오.\n",
    "\n",
    "### 입력\n",
    "첫째 줄에는 참여하는 사람 수 N이 주어지고 그 다음 줄부터 N개의 줄에 사람들이 주사위를 던진 4개의 눈이 빈칸을 사이에 두고 각각 주어진다.\n",
    "\n",
    "### 출력\n",
    "첫째 줄에 가장 많은 상금을 받은 사람의 상금을 출력한다.\n",
    "\n",
    "#### 예제 입력 1 \n",
    "```\n",
    "4\n",
    "3 3 3 3\n",
    "3 3 6 3\n",
    "2 2 6 6\n",
    "6 2 1 5\n",
    "```\n",
    "#### 예제 출력 1 \n",
    "```\n",
    "65000\n",
    "```\n",
    "\n",
    "---"
   ]
  },
  {
   "cell_type": "code",
   "execution_count": 4,
   "metadata": {},
   "outputs": [],
   "source": [
    "def calculate_prize(num_list):\n",
    "    num_list.sort(reverse=True)\n",
    "    # 같은 눈이 4개 나오는 경우\n",
    "    if num_list[0] == num_list[1] == num_list[2] == num_list[3]:\n",
    "        return 50000 + num_list[0]*5000\n",
    "    # 같은 눈이 3개 나오는 경우 (1)\n",
    "    elif num_list[0] == num_list[1] == num_list[2] and num_list[2] != num_list[3]:\n",
    "        return 10000 + num_list[0]*1000\n",
    "    # 같은 눈이 3개 나오는 경우 (2)\n",
    "    elif num_list[1] == num_list[2] == num_list[3] and num_list[0] != num_list[1]:\n",
    "        return 10000 + num_list[3]*1000\n",
    "    # 같은 눈이 2개, 2개 나오는 경우\n",
    "    elif num_list[0] == num_list[1] and num_list[2] == num_list[3]:\n",
    "        return 2000 + num_list[0]*500 + num_list[2]*500\n",
    "    # 같은 눈이 2개만 나오는 경우 (1)\n",
    "    elif num_list[0] == num_list[1]:\n",
    "        return 1000 + num_list[0]*100\n",
    "    # 같은 눈이 2개만 나오는 경우 (2)\n",
    "    elif num_list[1] == num_list[2]:\n",
    "        return 1000 + num_list[1]*100\n",
    "    # 같은 눈이 2개만 나오는 경우 (3)\n",
    "    elif num_list[2] == num_list[3]:\n",
    "        return 1000 + num_list[2]*100\n",
    "    # 모두 다른 눈이 나오는 경우\n",
    "    else:\n",
    "        return num_list[0]*100"
   ]
  },
  {
   "cell_type": "code",
   "execution_count": 5,
   "metadata": {},
   "outputs": [
    {
     "name": "stdout",
     "output_type": "stream",
     "text": [
      "65000\n"
     ]
    }
   ],
   "source": [
    "N = int(input())\n",
    "\n",
    "num_lists = []\n",
    "for _ in range (N):\n",
    "    num_lists.append(list(map(int, input().split())))\n",
    "\n",
    "prize_lists = []\n",
    "for i in range (N):\n",
    "    prize_lists.append(calculate_prize(num_lists[i]))\n",
    "\n",
    "print(max(prize_lists))"
   ]
  },
  {
   "cell_type": "markdown",
   "metadata": {},
   "source": [
    "---\n",
    "```맞았습니다!!```"
   ]
  }
 ],
 "metadata": {
  "kernelspec": {
   "display_name": "myenv",
   "language": "python",
   "name": "python3"
  },
  "language_info": {
   "codemirror_mode": {
    "name": "ipython",
    "version": 3
   },
   "file_extension": ".py",
   "mimetype": "text/x-python",
   "name": "python",
   "nbconvert_exporter": "python",
   "pygments_lexer": "ipython3",
   "version": "3.11.9"
  }
 },
 "nbformat": 4,
 "nbformat_minor": 2
}
