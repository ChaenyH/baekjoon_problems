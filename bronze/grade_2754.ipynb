{
 "cells": [
  {
   "cell_type": "code",
   "execution_count": 1,
   "metadata": {},
   "outputs": [
    {
     "name": "stdout",
     "output_type": "stream",
     "text": [
      "4.0\n"
     ]
    }
   ],
   "source": [
    "grade_dict = {'A+': 4.3, 'A0': 4.0, 'A-': 3.7, \n",
    "'B+': 3.3, 'B0': 3.0, 'B-': 2.7, \n",
    "'C+': 2.3, 'C0': 2.0, 'C-': 1.7, \n",
    "'D+': 1.3, 'D0': 1.0, 'D-': 0.7, \n",
    "'F': 0.0\n",
    "}\n",
    "\n",
    "grade = input()\n",
    "print(grade_dict[grade])"
   ]
  },
  {
   "cell_type": "markdown",
   "metadata": {},
   "source": [
    "---\n",
    "\n",
    "```맞았습니다!!```"
   ]
  },
  {
   "cell_type": "code",
   "execution_count": null,
   "metadata": {},
   "outputs": [],
   "source": []
  }
 ],
 "metadata": {
  "kernelspec": {
   "display_name": "myenv",
   "language": "python",
   "name": "python3"
  },
  "language_info": {
   "codemirror_mode": {
    "name": "ipython",
    "version": 3
   },
   "file_extension": ".py",
   "mimetype": "text/x-python",
   "name": "python",
   "nbconvert_exporter": "python",
   "pygments_lexer": "ipython3",
   "version": "3.11.9"
  }
 },
 "nbformat": 4,
 "nbformat_minor": 2
}
