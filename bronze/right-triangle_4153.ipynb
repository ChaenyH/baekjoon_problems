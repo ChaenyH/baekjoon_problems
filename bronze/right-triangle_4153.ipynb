{
 "cells": [
  {
   "cell_type": "markdown",
   "metadata": {},
   "source": [
    "# 직각삼각형\n",
    "- 시간 제한: 1 초\n",
    "\n",
    "## 문제\n",
    "과거 이집트인들은 각 변들의 길이가 3, 4, 5인 삼각형이 직각 삼각형인것을 알아냈다. 주어진 세변의 길이로 삼각형이 직각인지 아닌지 구분하시오.\n",
    "\n",
    "### 입력\n",
    "입력은 여러개의 테스트케이스로 주어지며 마지막줄에는 0 0 0이 입력된다. <br>\n",
    "각 테스트케이스는 모두 30,000보다 작은 양의 정수로 주어지며, 각 입력은 변의 길이를 의미한다.\n",
    "\n",
    "### 출력\n",
    "각 입력에 대해 직각 삼각형이 맞다면 \"right\", 아니라면 \"wrong\"을 출력한다.\n",
    "\n",
    "#### 예제 입력 1 \n",
    "```\n",
    "6 8 10\n",
    "25 52 60\n",
    "5 12 13\n",
    "0 0 0\n",
    "```\n",
    "#### 예제 출력 1 \n",
    "```\n",
    "right\n",
    "wrong\n",
    "right\n",
    "```\n",
    "### 알고리즘 분류\n",
    "- 수학\n",
    "- 기하학\n",
    "- 피타고라스 정리\n",
    "\n",
    "---"
   ]
  },
  {
   "cell_type": "code",
   "execution_count": 2,
   "metadata": {},
   "outputs": [
    {
     "name": "stdout",
     "output_type": "stream",
     "text": [
      "[6, 8, 10]\n",
      "[1, 1, 1]\n",
      "[25, 52, 60]\n",
      "[5, 12, 13]\n",
      "[[6, 8, 10], [1, 1, 1], [25, 52, 60], [5, 12, 13]]\n",
      "right\n",
      "wrong\n",
      "wrong\n",
      "right\n"
     ]
    }
   ],
   "source": [
    "# 입력 받기\n",
    "import sys\n",
    "input = sys.stdin.readline\n",
    "\n",
    "cases = []\n",
    "while True:\n",
    "    input_case = list(map(int, input().strip().split()))\n",
    "    if input_case == [0, 0, 0]:\n",
    "        break\n",
    "    else:\n",
    "        cases.append(sorted(input_case))  # cases[i][2] => 가장 긴 변\n",
    "        # print(input_case)\n",
    "# print(cases)\n",
    "\n",
    "# 입력된 값에 대한 직각 여부 판단 & 정답 출력\n",
    "for i in range (len(cases)):\n",
    "    if cases[i][2]**2 == cases[i][0]**2 + cases[i][1]**2:\n",
    "        print(\"right\")\n",
    "    else:\n",
    "        print(\"wrong\")"
   ]
  },
  {
   "cell_type": "markdown",
   "metadata": {},
   "source": [
    "---\n",
    "\n",
    "```맞았습니다!!```\n"
   ]
  }
 ],
 "metadata": {
  "kernelspec": {
   "display_name": "myenv",
   "language": "python",
   "name": "python3"
  },
  "language_info": {
   "codemirror_mode": {
    "name": "ipython",
    "version": 3
   },
   "file_extension": ".py",
   "mimetype": "text/x-python",
   "name": "python",
   "nbconvert_exporter": "python",
   "pygments_lexer": "ipython3",
   "version": "3.11.8"
  }
 },
 "nbformat": 4,
 "nbformat_minor": 2
}
