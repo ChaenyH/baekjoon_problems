{
 "cells": [
  {
   "cell_type": "markdown",
   "metadata": {},
   "source": [
    "# 웰컴 키트\n",
    "- 시간 제한: 0.1 초\n",
    "\n",
    "## 문제\n",
    "2024년 2월 3일 개최 예정인 온사이트 그랜드 아레나에서는 <br>\n",
    "참가자들에게 티셔츠 한 장과 펜 한 자루가 포함된 웰컴 키트를 나눠줄 예정입니다.\n",
    "\n",
    "키트를 제작하는 업체는 다음과 같은 조건으로만 주문이 가능합니다.\n",
    "\n",
    "티셔츠는 S, M, L, XL, XXL, 그리고 XXXL의 6가지 사이즈가 있습니다.\n",
    "\n",
    "티셔츠는 같은 사이즈의 $T$장 묶음으로만 주문할 수 있습니다.\n",
    "\n",
    "펜은 한 종류로, $P$자루씩 묶음으로 주문하거나 한 자루씩 주문할 수 있습니다.\n",
    "\n",
    "총 $N$명의 참가자 중 S, M, L, XL, XXL, XXXL 사이즈의 티셔츠를 신청한 사람은 <br>\n",
    "각각 $S, M, L, XL, XXL, XXXL$명입니다.\n",
    "\n",
    "티셔츠는 남아도 되지만 부족해서는 안 되고 신청한 사이즈대로 나눠주어야 합니다. <br>\n",
    "펜은 남거나 부족해서는 안 되고 정확히 참가자 수만큼 준비되어야 합니다.\n",
    "\n",
    "티셔츠를 $T$장씩 최소 몇 묶음 주문해야 하는지, <br>\n",
    "그리고 펜을 $P$자루씩 최대 몇 묶음 주문할 수 있고, 그 때 펜을 한 자루씩 몇 개 주문하는지 구하세요.\n",
    "\n",
    "### 입력\n",
    "첫 줄에 참가자의 수 $N$이 주어집니다. \n",
    "\n",
    "$(1 \\le N \\le 10^9)$ \n",
    "\n",
    "둘째 줄에 티셔츠 사이즈별 신청자의 수 $S, M, L, XL, XXL, XXXL$이 공백으로 구분되어 주어집니다. \n",
    "\n",
    "$(0 \\le S, M, L, XL, XXL, XXXL \\le N;$ <br>\n",
    "$S + M + L + XL + XXL + XXXL = N)$ \n",
    "\n",
    "셋째 줄에 정수 티셔츠와 펜의 묶음 수를 의미하는 정수 $T$와 $P$가 공백으로 구분되어 주어집니다. \n",
    "\n",
    "$(2 \\le T, P \\le 10^9)$ \n",
    "\n",
    "### 출력\n",
    "첫 줄에 티셔츠를 $T$장씩 최소 몇 묶음 주문해야 하는지 출력하세요.\n",
    "\n",
    "다음 줄에 펜을 $P$자루씩 최대 몇 묶음 주문할 수 있는지와, 그 때 펜을 한 자루씩 몇 개 주문하는지 구하세요.\n",
    "\n",
    "#### 예제 입력 1 \n",
    "```\n",
    "23\n",
    "3 1 4 1 5 9\n",
    "5 7\n",
    "```\n",
    "#### 예제 출력 1 \n",
    "```\n",
    "7\n",
    "3 2\n",
    "```\n",
    "S, M, L, XL, XXL 사이즈 티셔츠를 $1$묶음씩 구매하고 XXXL 사이즈 티셔츠를 $2$묶음 구매합니다.\n",
    "\n",
    "### 알고리즘 분류\n",
    "- 수학\n",
    "- 구현\n",
    "- 사칙연산\n",
    "\n",
    "---"
   ]
  },
  {
   "cell_type": "markdown",
   "metadata": {},
   "source": [
    "##### 데이터 입력 받기"
   ]
  },
  {
   "cell_type": "code",
   "execution_count": 6,
   "metadata": {},
   "outputs": [],
   "source": [
    "import sys\n",
    "# input = sys.stdin.readline\n",
    "\n",
    "N = int(input().strip())  # 참가자 수\n",
    "# S, M, L, XL, XXL, XXXL\n",
    "size_count = list(map(int, input().strip().split()))  # 티셔츠 사이즈별 신청자 수 (총합은 N)\n",
    "T, P = map(int, input().strip().split())  # 묶음당 티셔츠 수, 펜 수"
   ]
  },
  {
   "cell_type": "markdown",
   "metadata": {},
   "source": [
    "##### 답 출력 \n",
    "\n",
    "-> 첫 번째 줄 출력: 각 사이즈별로 (해당 신청자 수) // T + 1 를 구한 후 모두 더한 값\n",
    "\n",
    "-> 두 번째 줄 출력: 전체 인원 수 // P , 전체 인원수 % P"
   ]
  },
  {
   "cell_type": "code",
   "execution_count": 10,
   "metadata": {},
   "outputs": [
    {
     "name": "stdout",
     "output_type": "stream",
     "text": [
      "7\n"
     ]
    }
   ],
   "source": [
    "answer_shirt = 0\n",
    "for count in size_count:\n",
    "    answer_shirt += count // T\n",
    "    if count % T != 0:\n",
    "        answer_shirt += 1\n",
    "print(answer_shirt)"
   ]
  },
  {
   "cell_type": "code",
   "execution_count": 9,
   "metadata": {},
   "outputs": [
    {
     "name": "stdout",
     "output_type": "stream",
     "text": [
      "3 2\n"
     ]
    }
   ],
   "source": [
    "print(f\"{N//P} {N%P}\")"
   ]
  },
  {
   "cell_type": "markdown",
   "metadata": {},
   "source": [
    "---\n",
    "```맞았습니다!!```"
   ]
  },
  {
   "cell_type": "markdown",
   "metadata": {},
   "source": []
  }
 ],
 "metadata": {
  "kernelspec": {
   "display_name": "myenv",
   "language": "python",
   "name": "python3"
  },
  "language_info": {
   "codemirror_mode": {
    "name": "ipython",
    "version": 3
   },
   "file_extension": ".py",
   "mimetype": "text/x-python",
   "name": "python",
   "nbconvert_exporter": "python",
   "pygments_lexer": "ipython3",
   "version": "3.11.8"
  }
 },
 "nbformat": 4,
 "nbformat_minor": 2
}
