{
 "cells": [
  {
   "cell_type": "markdown",
   "metadata": {},
   "source": [
    "# 나무 자르기\n",
    "- 시간 제한: 1 초\n",
    "\n",
    "## 문제\n",
    "- 1 ≤ N ≤ 1,000,000\n",
    "- 1 ≤ M ≤ 2,000,000,000\n",
    "- 나무의 높이의 합은 항상 M보다 크거나 같기 때문에, 상근이는 집에 필요한 나무를 항상 가져갈 수 있다. \n",
    "- 높이는 1,000,000,000보다 작거나 같은 양의 정수 또는 0이다.\n",
    "- 절단기에 설정할 수 있는 높이는 양의 정수 또는 0이다.\n",
    "- 적어도 M미터의 나무를 집에 가져가기 위해서 절단기에 설정할 수 있는 높이의 최댓값을 구하는 프로그램을 작성하시오.\n",
    "\n",
    "### 알고리즘 분류\n",
    "- 이분 탐색\n",
    "- 매개 변수 탐색\n",
    "\n",
    "---"
   ]
  },
  {
   "cell_type": "markdown",
   "metadata": {},
   "source": [
    "### try: 1 (시간 초과)"
   ]
  },
  {
   "cell_type": "code",
   "execution_count": null,
   "metadata": {},
   "outputs": [],
   "source": [
    "import sys\n",
    "input = sys.stdin.readline"
   ]
  },
  {
   "cell_type": "code",
   "execution_count": 1,
   "metadata": {},
   "outputs": [
    {
     "name": "stdout",
     "output_type": "stream",
     "text": [
      "[20, 17, 15, 10]\n"
     ]
    }
   ],
   "source": [
    "# 첫째 줄에 나무의 수 N과 상근이가 집으로 가져가려고 하는 나무의 길이 M이 주어진다. \n",
    "N, M = map(int, input().strip().split())\n",
    "# 둘째 줄에는 나무의 높이가 주어진다.\n",
    "trees = list(map(int, input().strip().split()))\n",
    "trees = sorted(trees, reverse=True)\n",
    "print(M, trees)"
   ]
  },
  {
   "cell_type": "code",
   "execution_count": 25,
   "metadata": {},
   "outputs": [
    {
     "name": "stdout",
     "output_type": "stream",
     "text": [
      "15\n",
      "[5, 2, 0, 0]\n"
     ]
    }
   ],
   "source": [
    "cutter = 0\n",
    "checker = False\n",
    "while True:\n",
    "    cutted_trees = [max(x - cutter, 0) for x in trees]\n",
    "    unneed = sum(cutted_trees) - M\n",
    "    if unneed == 0:\n",
    "        print(cutter)\n",
    "        break\n",
    "    elif unneed > 0:\n",
    "        if unneed//N != 0:\n",
    "            cutter += unneed//N\n",
    "        else:\n",
    "            cutter += 1\n",
    "            checker = True\n",
    "    else:  # unneed < 0\n",
    "        if checker == True:\n",
    "            print(cutter - 1)\n",
    "            break\n",
    "        if unneed//N != 0:\n",
    "            cutter += unneed//N\n",
    "        else:\n",
    "            cutter -= 1"
   ]
  },
  {
   "cell_type": "markdown",
   "metadata": {},
   "source": [
    "---\n",
    "\n",
    "``` python\n",
    "import sys\n",
    "input = sys.stdin.readline\n",
    "\n",
    "# 첫째 줄에 나무의 수 N과 상근이가 집으로 가져가려고 하는 나무의 길이 M이 주어진다. \n",
    "N, M = map(int, input().strip().split())\n",
    "# 둘째 줄에는 나무의 높이가 주어진다.\n",
    "trees = list(map(int, input().strip().split()))\n",
    "\n",
    "cutter = 0\n",
    "checker = False\n",
    "while True:\n",
    "    cutted_trees = [max(x - cutter, 0) for x in trees]\n",
    "    unneed = sum(cutted_trees) - M\n",
    "    if unneed == 0:\n",
    "        print(cutter)\n",
    "        break\n",
    "    elif unneed > 0:\n",
    "        if unneed//N != 0:\n",
    "            cutter += unneed//N\n",
    "        else:\n",
    "            cutter += 1\n",
    "            checker = True\n",
    "    else:  # unneed < 0\n",
    "        if checker == True:\n",
    "            print(cutter - 1)\n",
    "            break\n",
    "        if unneed//N != 0:\n",
    "            cutter += unneed//N\n",
    "        else:\n",
    "            cutter -= 1\n",
    "```\n",
    "\n",
    "---\n",
    "```시간 초과```"
   ]
  },
  {
   "cell_type": "markdown",
   "metadata": {},
   "source": [
    "---\n",
    "\n",
    "### try: 2 (틀렸습니다), 3 (시간 초과), 4 (성공)"
   ]
  },
  {
   "cell_type": "code",
   "execution_count": null,
   "metadata": {},
   "outputs": [],
   "source": [
    "import sys\n",
    "input = sys.stdin.readline"
   ]
  },
  {
   "cell_type": "code",
   "execution_count": 35,
   "metadata": {},
   "outputs": [],
   "source": [
    "# 첫째 줄에 나무의 수 N과 상근이가 집으로 가져가려고 하는 나무의 길이 M이 주어진다. \n",
    "N, M = map(int, input().strip().split())\n",
    "# 둘째 줄에는 나무의 높이가 주어진다.\n",
    "trees = list(map(int, input().strip().split()))"
   ]
  },
  {
   "cell_type": "markdown",
   "metadata": {},
   "source": [
    "##### 이분 탐색 알고리즘 적용 (1트)"
   ]
  },
  {
   "cell_type": "code",
   "execution_count": 36,
   "metadata": {},
   "outputs": [
    {
     "name": "stdout",
     "output_type": "stream",
     "text": [
      "23  |  46 23\n",
      "34  |  46 34\n",
      "40  |  40 34\n",
      "37  |  37 34\n",
      "35  |  37 35\n",
      "36  |  36 35\n",
      "35  |  36 35\n",
      "36\n"
     ]
    }
   ],
   "source": [
    "under, upper = 0, max(trees)\n",
    "cutter = (under + upper) // 2\n",
    "while True:\n",
    "    cutter_saved = cutter\n",
    "\n",
    "    cutted_trees = sum(max(x - cutter, 0) for x in trees)\n",
    "    if cutted_trees > M:\n",
    "        under = cutter\n",
    "        print(cutter, \" | \", upper, under)\n",
    "    else:\n",
    "        upper = cutter\n",
    "        print(cutter, \" | \", upper, under)\n",
    "    cutter = (under + upper) // 2\n",
    "    if cutter == cutter_saved:\n",
    "        cutter += 1\n",
    "        break\n",
    "print(cutter)"
   ]
  },
  {
   "cell_type": "markdown",
   "metadata": {},
   "source": [
    "```틀렸습니다```"
   ]
  },
  {
   "cell_type": "markdown",
   "metadata": {},
   "source": [
    "##### 이분 탐색 알고리즘 적용 (2트)"
   ]
  },
  {
   "cell_type": "code",
   "execution_count": null,
   "metadata": {},
   "outputs": [
    {
     "name": "stdout",
     "output_type": "stream",
     "text": [
      "36\n"
     ]
    }
   ],
   "source": [
    "under, upper = 0, max(trees)\n",
    "while under <= upper:\n",
    "    center = (under + upper) // 2\n",
    "    get_trees = sum(max(x - center, 0) for x in trees)\n",
    "    if get_trees == M:\n",
    "        upper = center\n",
    "        break\n",
    "    elif get_trees < M:\n",
    "        upper = center - 1\n",
    "    else:  # get_trees > M\n",
    "        under = center + 1\n",
    "print(upper)\n"
   ]
  },
  {
   "cell_type": "markdown",
   "metadata": {},
   "source": [
    "##### 이분 탐색 알고리즘 적용 (3트) - 성공!!\n",
    "- 잘라서 얻은 나무의 길이를 구하는 sum 문장을 수정하였음 "
   ]
  },
  {
   "cell_type": "code",
   "execution_count": 38,
   "metadata": {},
   "outputs": [
    {
     "name": "stdout",
     "output_type": "stream",
     "text": [
      "36\n"
     ]
    }
   ],
   "source": [
    "under, upper = 0, max(trees)\n",
    "while under <= upper:\n",
    "    center = (under + upper) // 2\n",
    "    get_trees = sum(x - center if x > center else 0 for x in trees)\n",
    "    if get_trees == M:\n",
    "        upper = center\n",
    "        break\n",
    "    elif get_trees < M:\n",
    "        upper = center - 1\n",
    "    else:  # get_trees > M\n",
    "        under = center + 1\n",
    "print(upper)\n"
   ]
  },
  {
   "cell_type": "markdown",
   "metadata": {},
   "source": [
    "---\n",
    "```python\n",
    "import sys\n",
    "input = sys.stdin.readline\n",
    "\n",
    "# 첫째 줄에 나무의 수 N과 상근이가 집으로 가져가려고 하는 나무의 길이 M이 주어진다. \n",
    "N, M = map(int, input().strip().split())\n",
    "# 둘째 줄에는 나무의 높이가 주어진다.\n",
    "trees = list(map(int, input().strip().split()))\n",
    "\n",
    "under, upper = 0, max(trees)\n",
    "while under <= upper:\n",
    "    center = (under + upper) // 2\n",
    "    get_trees = sum(x - center if x > center else 0 for x in trees)\n",
    "    if get_trees == M:\n",
    "        upper = center\n",
    "        break\n",
    "    elif get_trees < M:\n",
    "        upper = center - 1\n",
    "    else:  # get_trees > M\n",
    "        under = center + 1\n",
    "print(upper)\n",
    "```\n",
    "\n",
    "---\n",
    "```맞았습니다!!```"
   ]
  },
  {
   "cell_type": "markdown",
   "metadata": {},
   "source": []
  }
 ],
 "metadata": {
  "kernelspec": {
   "display_name": "myenv",
   "language": "python",
   "name": "python3"
  },
  "language_info": {
   "codemirror_mode": {
    "name": "ipython",
    "version": 3
   },
   "file_extension": ".py",
   "mimetype": "text/x-python",
   "name": "python",
   "nbconvert_exporter": "python",
   "pygments_lexer": "ipython3",
   "version": "3.11.8"
  }
 },
 "nbformat": 4,
 "nbformat_minor": 2
}
