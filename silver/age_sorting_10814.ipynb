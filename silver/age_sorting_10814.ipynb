{
 "cells": [
  {
   "cell_type": "markdown",
   "metadata": {},
   "source": [
    "# 나이순 정렬\n",
    "- 시간 제한: 3 초\n",
    "\n",
    "## 문제\n",
    "온라인 저지에 가입한 사람들의 나이와 이름이 가입한 순서대로 주어진다. <br>\n",
    "이때, 회원들을 나이가 증가하는 순으로, 나이가 같으면 먼저 가입한 사람이 앞에 오는 순서로 정렬하는 프로그램을 작성하시오.\n",
    "\n",
    "### 입력\n",
    "첫째 줄에 온라인 저지 회원의 수 N이 주어진다. (1 ≤ N ≤ 100,000)\n",
    "\n",
    "둘째 줄부터 N개의 줄에는 각 회원의 나이와 이름이 공백으로 구분되어 주어진다. <br>\n",
    "나이는 1보다 크거나 같으며, 200보다 작거나 같은 정수이고, 이름은 알파벳 대소문자로 이루어져 있고, 길이가 100보다 작거나 같은 문자열이다. <br>\n",
    "입력은 가입한 순서로 주어진다.\n",
    "\n",
    "### 출력\n",
    "첫째 줄부터 총 N개의 줄에 걸쳐 온라인 저지 회원을 나이 순, 나이가 같으면 가입한 순으로 한 줄에 한 명씩 나이와 이름을 공백으로 구분해 출력한다.\n",
    "\n",
    "#### 예제 입력 1 \n",
    "```\n",
    "3\n",
    "21 Junkyu\n",
    "21 Dohyun\n",
    "20 Sunyoung\n",
    "```\n",
    "\n",
    "#### 예제 출력 1 \n",
    "```\n",
    "20 Sunyoung\n",
    "21 Junkyu\n",
    "21 Dohyun\n",
    "```\n",
    "### 알고리즘 분류\n",
    "- 정렬\n",
    "\n",
    "---"
   ]
  },
  {
   "cell_type": "code",
   "execution_count": 3,
   "metadata": {},
   "outputs": [
    {
     "name": "stdout",
     "output_type": "stream",
     "text": [
      "20 sunyoung\n",
      "21 Junkyu\n",
      "21 Dohyun\n"
     ]
    }
   ],
   "source": [
    "N = int(input())\n",
    "cases = []\n",
    "\n",
    "for _ in range (N):\n",
    "    age, name = input().split()\n",
    "    cases.append([int(age), name])\n",
    "\n",
    "cases.sort(key=lambda x: x[0])\n",
    "for case in cases:\n",
    "    print(f\"{case[0]} {case[1]}\")"
   ]
  },
  {
   "cell_type": "markdown",
   "metadata": {},
   "source": [
    "---\n",
    "```맞았습니다!!```"
   ]
  },
  {
   "cell_type": "markdown",
   "metadata": {},
   "source": []
  }
 ],
 "metadata": {
  "kernelspec": {
   "display_name": "myenv",
   "language": "python",
   "name": "python3"
  },
  "language_info": {
   "codemirror_mode": {
    "name": "ipython",
    "version": 3
   },
   "file_extension": ".py",
   "mimetype": "text/x-python",
   "name": "python",
   "nbconvert_exporter": "python",
   "pygments_lexer": "ipython3",
   "version": "3.11.9"
  }
 },
 "nbformat": 4,
 "nbformat_minor": 2
}
