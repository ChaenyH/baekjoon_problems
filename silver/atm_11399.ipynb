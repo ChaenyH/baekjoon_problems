{
 "cells": [
  {
   "cell_type": "code",
   "execution_count": null,
   "metadata": {},
   "outputs": [],
   "source": [
    "N = int(input())\n",
    "p_list = list(map(int, input().split()))\n",
    "# print(p_list)\n",
    "sorted_list = sorted(p_list)\n",
    "# print(sorted_list)"
   ]
  },
  {
   "cell_type": "code",
   "execution_count": 5,
   "metadata": {},
   "outputs": [
    {
     "name": "stdout",
     "output_type": "stream",
     "text": [
      "1\n",
      "[1]\n",
      "3\n",
      "[1, 3]\n",
      "6\n",
      "[1, 3, 6]\n",
      "9\n",
      "[1, 3, 6, 9]\n",
      "13\n",
      "[1, 3, 6, 9, 13]\n",
      "32\n"
     ]
    }
   ],
   "source": [
    "time_accum = 0\n",
    "answer_list = []\n",
    "for i in range (N):\n",
    "    time_accum += sorted_list[i]\n",
    "    # print(time_accum)\n",
    "    answer_list.append(time_accum)\n",
    "    # print(answer_list)\n",
    "\n",
    "answer = 0\n",
    "for i in range (N):\n",
    "    answer += answer_list[i]\n",
    "print(answer)"
   ]
  },
  {
   "cell_type": "markdown",
   "metadata": {},
   "source": [
    "---\n",
    "```맞았습니다!!```"
   ]
  },
  {
   "cell_type": "code",
   "execution_count": null,
   "metadata": {},
   "outputs": [],
   "source": []
  }
 ],
 "metadata": {
  "kernelspec": {
   "display_name": "myenv",
   "language": "python",
   "name": "python3"
  },
  "language_info": {
   "codemirror_mode": {
    "name": "ipython",
    "version": 3
   },
   "file_extension": ".py",
   "mimetype": "text/x-python",
   "name": "python",
   "nbconvert_exporter": "python",
   "pygments_lexer": "ipython3",
   "version": "3.11.9"
  }
 },
 "nbformat": 4,
 "nbformat_minor": 2
}
