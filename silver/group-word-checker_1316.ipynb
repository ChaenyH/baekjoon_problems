{
 "cells": [
  {
   "cell_type": "markdown",
   "metadata": {},
   "source": [
    "# 그룹 단어 체커\n",
    "- 시간 제한: 2 초\n",
    "\n",
    "## 문제\n",
    "그룹 단어란 단어에 존재하는 모든 문자에 대해서, 각 문자가 연속해서 나타나는 경우만을 말한다. <br>\n",
    "\n",
    "예를 들면, ccazzzzbb는 c, a, z, b가 모두 연속해서 나타나고, <br>\n",
    "kin도 k, i, n이 연속해서 나타나기 때문에 그룹 단어이지만, <br>\n",
    "aabbbccb는 b가 떨어져서 나타나기 때문에 그룹 단어가 아니다.\n",
    "\n",
    "단어 N개를 입력으로 받아 그룹 단어의 개수를 출력하는 프로그램을 작성하시오.\n",
    "\n",
    "### 입력\n",
    "첫째 줄에 단어의 개수 N이 들어온다. N은 100보다 작거나 같은 자연수이다. <br>\n",
    "둘째 줄부터 N개의 줄에 단어가 들어온다. <br>\n",
    "단어는 알파벳 소문자로만 되어있고 중복되지 않으며, 길이는 최대 100이다.\n",
    "\n",
    "### 출력\n",
    "첫째 줄에 그룹 단어의 개수를 출력한다.\n",
    "\n",
    "#### 예제 입력 1 \n",
    "```\n",
    "3\n",
    "happy\n",
    "new\n",
    "year\n",
    "```\n",
    "#### 예제 출력 1 \n",
    "```3```\n",
    "\n",
    "#### 예제 입력 2 \n",
    "```\n",
    "4\n",
    "aba\n",
    "abab\n",
    "abcabc\n",
    "a\n",
    "```\n",
    "#### 예제 출력 2 \n",
    "```1```\n",
    "#### 예제 입력 3 \n",
    "```\n",
    "5\n",
    "ab\n",
    "aa\n",
    "aca\n",
    "ba\n",
    "bb\n",
    "```\n",
    "#### 예제 출력 3 \n",
    "```4```\n",
    "#### 예제 입력 4 \n",
    "```\n",
    "2\n",
    "yzyzy\n",
    "zyzyz\n",
    "```\n",
    "#### 예제 출력 4 \n",
    "```0```\n",
    "#### 예제 입력 5 \n",
    "```\n",
    "1\n",
    "z\n",
    "```\n",
    "#### 예제 출력 5 \n",
    "```1```\n",
    "#### 예제 입력 6 \n",
    "```\n",
    "9\n",
    "aaa\n",
    "aaazbz\n",
    "babb\n",
    "aazz\n",
    "azbz\n",
    "aabbaa\n",
    "abacc\n",
    "aba\n",
    "zzaz\n",
    "```\n",
    "#### 예제 출력 6 \n",
    "```2```\n",
    "\n",
    "### 알고리즘 분류\n",
    "- 구현\n",
    "- 문자열\n",
    "\n",
    "---"
   ]
  },
  {
   "cell_type": "code",
   "execution_count": 1,
   "metadata": {},
   "outputs": [],
   "source": [
    "def is_grouped(str):\n",
    "    str_list = list(str)\n",
    "    appeared = []\n",
    "    for string in str_list:\n",
    "        if string not in appeared:\n",
    "            appeared.append(string)\n",
    "        elif string == appeared[-1]:\n",
    "            continue\n",
    "        else:\n",
    "            return False    \n",
    "    return True"
   ]
  },
  {
   "cell_type": "code",
   "execution_count": 3,
   "metadata": {},
   "outputs": [
    {
     "name": "stdout",
     "output_type": "stream",
     "text": [
      "1\n"
     ]
    }
   ],
   "source": [
    "N = int(input())\n",
    "cases = []\n",
    "for _ in range (N):\n",
    "    cases.append(input())\n",
    "\n",
    "count = 0\n",
    "for i in range (N):\n",
    "    if is_grouped(cases[i]):\n",
    "        count += 1\n",
    "print(count)"
   ]
  },
  {
   "cell_type": "markdown",
   "metadata": {},
   "source": [
    "---\n",
    "```맞았습니다!!```"
   ]
  },
  {
   "cell_type": "code",
   "execution_count": null,
   "metadata": {},
   "outputs": [],
   "source": []
  }
 ],
 "metadata": {
  "kernelspec": {
   "display_name": "myenv",
   "language": "python",
   "name": "python3"
  },
  "language_info": {
   "codemirror_mode": {
    "name": "ipython",
    "version": 3
   },
   "file_extension": ".py",
   "mimetype": "text/x-python",
   "name": "python",
   "nbconvert_exporter": "python",
   "pygments_lexer": "ipython3",
   "version": "3.11.9"
  }
 },
 "nbformat": 4,
 "nbformat_minor": 2
}
