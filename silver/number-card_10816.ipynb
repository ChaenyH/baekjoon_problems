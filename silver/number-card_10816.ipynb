{
 "cells": [
  {
   "cell_type": "markdown",
   "metadata": {},
   "source": [
    "# 숫자 카드 2\n",
    "- 시간 제한: 1 초\n",
    "\n",
    "## 문제\n",
    "숫자 카드는 정수 하나가 적혀져 있는 카드이다. 상근이는 숫자 카드 N개를 가지고 있다. <br>\n",
    "정수 M개가 주어졌을 때, 이 수가 적혀있는 숫자 카드를 상근이가 몇 개 가지고 있는지 구하는 프로그램을 작성하시오.\n",
    "\n",
    "### 입력\n",
    "첫째 줄에 상근이가 가지고 있는 숫자 카드의 개수 N(1 ≤ N ≤ 500,000)이 주어진다. 둘째 줄에는 숫자 카드에 적혀있는 정수가 주어진다. <br>\n",
    "숫자 카드에 적혀있는 수는 -10,000,000보다 크거나 같고, 10,000,000보다 작거나 같다.\n",
    "\n",
    "셋째 줄에는 M(1 ≤ M ≤ 500,000)이 주어진다. 넷째 줄에는 상근이가 몇 개 가지고 있는 숫자 카드인지 구해야 할 M개의 정수가 주어지며, 이 수는 공백으로 구분되어져 있다. <br>\n",
    "이 수도 -10,000,000보다 크거나 같고, 10,000,000보다 작거나 같다.\n",
    "\n",
    "### 출력\n",
    "첫째 줄에 입력으로 주어진 M개의 수에 대해서, 각 수가 적힌 숫자 카드를 상근이가 몇 개 가지고 있는지를 공백으로 구분해 출력한다.\n",
    "\n",
    "#### 예제 입력 1 \n",
    "```\n",
    "10\n",
    "6 3 2 10 10 10 -10 -10 7 3\n",
    "8\n",
    "10 9 -5 2 3 4 5 -10\n",
    "```\n",
    "#### 예제 출력 1 \n",
    "```3 0 0 1 2 0 0 2```\n",
    "\n",
    "### 알고리즘 분류\n",
    "- 자료 구조\n",
    "- 정렬\n",
    "- 이분 탐색\n",
    "- 해시를 사용한 집합과 맵\n",
    "\n",
    "---"
   ]
  },
  {
   "cell_type": "code",
   "execution_count": null,
   "metadata": {},
   "outputs": [],
   "source": [
    "import sys\n",
    "input = sys.stdin.readline"
   ]
  },
  {
   "cell_type": "code",
   "execution_count": 1,
   "metadata": {},
   "outputs": [],
   "source": [
    "N = int(input().strip())\n",
    "card_numbers = list(map(int, input().strip().split()))\n",
    "M = int(input().strip())\n",
    "numbers_to_count = list(map(int, input().strip().split()))"
   ]
  },
  {
   "cell_type": "code",
   "execution_count": 2,
   "metadata": {},
   "outputs": [
    {
     "name": "stdout",
     "output_type": "stream",
     "text": [
      "10\n",
      "[6, 3, 2, 10, 10, 10, -10, -10, 7, 3]\n",
      "8\n",
      "[10, 9, -5, 2, 3, 4, 5, -10]\n"
     ]
    }
   ],
   "source": [
    "print(N)\n",
    "print(card_numbers)\n",
    "print(M)\n",
    "print(numbers_to_count)"
   ]
  },
  {
   "cell_type": "code",
   "execution_count": 3,
   "metadata": {},
   "outputs": [
    {
     "name": "stdout",
     "output_type": "stream",
     "text": [
      "Counter({10: 3, 3: 2, -10: 2, 6: 1, 2: 1, 7: 1})\n"
     ]
    }
   ],
   "source": [
    "from collections import Counter\n",
    "\n",
    "counted_numbers = Counter(card_numbers)\n",
    "\n",
    "print(counted_numbers)"
   ]
  },
  {
   "cell_type": "code",
   "execution_count": 7,
   "metadata": {},
   "outputs": [
    {
     "name": "stdout",
     "output_type": "stream",
     "text": [
      "3 0 0 1 2 0 0 2\n"
     ]
    }
   ],
   "source": [
    "for i, number in enumerate(numbers_to_count):\n",
    "    if i == len(numbers_to_count) - 1:\n",
    "            print(counted_numbers.get(number, 0))\n",
    "    else:\n",
    "        print(counted_numbers.get(number, 0), end=\" \")"
   ]
  },
  {
   "cell_type": "markdown",
   "metadata": {},
   "source": [
    "---\n",
    "```맞았습니다!!```"
   ]
  },
  {
   "cell_type": "code",
   "execution_count": null,
   "metadata": {},
   "outputs": [],
   "source": []
  }
 ],
 "metadata": {
  "kernelspec": {
   "display_name": "myenv",
   "language": "python",
   "name": "python3"
  },
  "language_info": {
   "codemirror_mode": {
    "name": "ipython",
    "version": 3
   },
   "file_extension": ".py",
   "mimetype": "text/x-python",
   "name": "python",
   "nbconvert_exporter": "python",
   "pygments_lexer": "ipython3",
   "version": "3.11.8"
  }
 },
 "nbformat": 4,
 "nbformat_minor": 2
}
