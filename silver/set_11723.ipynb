{
 "cells": [
  {
   "cell_type": "markdown",
   "metadata": {},
   "source": [
    "# 집합\n",
    "- 시간 제한: 1.5 초\n",
    "\n",
    "## 문제\n",
    "\n",
    "비어있는 공집합 S가 주어졌을 때, 아래 연산을 수행하는 프로그램을 작성하시오.\n",
    "\n",
    "- add x: S에 x를 추가한다. (1 ≤ x ≤ 20) <br>\n",
    "    S에 x가 이미 있는 경우에는 연산을 무시한다.\n",
    "- remove x: S에서 x를 제거한다. (1 ≤ x ≤ 20) <br>\n",
    "    S에 x가 없는 경우에는 연산을 무시한다.\n",
    "- check x: S에 x가 있으면 1을, 없으면 0을 출력한다. (1 ≤ x ≤ 20)\n",
    "- toggle x: S에 x가 있으면 x를 제거하고, 없으면 x를 추가한다. (1 ≤ x ≤ 20)\n",
    "- all: S를 {1, 2, ..., 20} 으로 바꾼다.\n",
    "- empty: S를 공집합으로 바꾼다.\n",
    "\n",
    "\n",
    "---"
   ]
  },
  {
   "cell_type": "code",
   "execution_count": null,
   "metadata": {},
   "outputs": [],
   "source": [
    "import sys\n",
    "input = sys.stdin.readline"
   ]
  },
  {
   "cell_type": "code",
   "execution_count": 8,
   "metadata": {},
   "outputs": [
    {
     "name": "stdout",
     "output_type": "stream",
     "text": [
      "1\n",
      "1\n"
     ]
    }
   ],
   "source": [
    "# 첫째 줄에 수행해야 하는 연산의 수 M (1 ≤ M ≤ 3,000,000)이 주어진다.\n",
    "M = int(input())\n",
    "\n",
    "# 둘째 줄부터 M개의 줄에 수행해야 하는 연산이 한 줄에 하나씩 주어진다.\n",
    "# check 연산이 주어질때마다, 결과를 출력한다.\n",
    "S = set()\n",
    "for _ in range (M):\n",
    "    oper = input().strip()\n",
    "    if oper == \"all\":\n",
    "        S = set(range(1, 21))\n",
    "    elif oper == \"empty\":\n",
    "        S.clear()\n",
    "        # S = set()\n",
    "    else:\n",
    "        oper, x = oper.split()\n",
    "        x = int(x)\n",
    "        if oper == \"add\":\n",
    "            S.add(x)\n",
    "        elif oper == \"remove\":\n",
    "            if x in S:\n",
    "                S.discard(x)\n",
    "        elif oper == \"toggle\":\n",
    "            if x in S:\n",
    "                S.discard(x)\n",
    "            else:\n",
    "                S.add(x)\n",
    "        else:  # oper == \"check\"\n",
    "            if x in S:\n",
    "                print(1)\n",
    "            else:\n",
    "                print(0)\n",
    "\n"
   ]
  },
  {
   "cell_type": "code",
   "execution_count": 12,
   "metadata": {},
   "outputs": [
    {
     "name": "stdout",
     "output_type": "stream",
     "text": [
      "{1, 2, 3} <class 'set'>\n",
      "set() <class 'set'>\n"
     ]
    }
   ],
   "source": [
    "# S = {1, 2, 3}\n",
    "# print(S, type(S))\n",
    "# S.clear()\n",
    "# print(S, type(S))"
   ]
  },
  {
   "cell_type": "markdown",
   "metadata": {},
   "source": [
    "---\n",
    "```맞았습니다!!```"
   ]
  },
  {
   "cell_type": "markdown",
   "metadata": {},
   "source": []
  }
 ],
 "metadata": {
  "kernelspec": {
   "display_name": "myenv",
   "language": "python",
   "name": "python3"
  },
  "language_info": {
   "codemirror_mode": {
    "name": "ipython",
    "version": 3
   },
   "file_extension": ".py",
   "mimetype": "text/x-python",
   "name": "python",
   "nbconvert_exporter": "python",
   "pygments_lexer": "ipython3",
   "version": "3.11.8"
  }
 },
 "nbformat": 4,
 "nbformat_minor": 2
}
