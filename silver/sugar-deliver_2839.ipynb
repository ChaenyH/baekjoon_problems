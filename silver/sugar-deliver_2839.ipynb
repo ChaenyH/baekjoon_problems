{
 "cells": [
  {
   "cell_type": "markdown",
   "metadata": {},
   "source": [
    "# 설탕 배달\n",
    "- 시간 제한: 1 초\n",
    "\n",
    "## 문제\n",
    "\n",
    "- 상근이는 지금 사탕가게에 설탕을 정확하게 N 킬로그램을 배달해야 한다.\n",
    "- 봉지는 3킬로그램 봉지와 5킬로그램 봉지가 있다.\n",
    "- 최대한 봉지를 적게 들고 가려고 한다.\n",
    "- 봉지 몇 개를 가져가면 되는지 그 수를 구하는 프로그램을 작성하시오.\n",
    "- 만약, 정확하게 N킬로그램을 만들 수 없다면 -1을 출력한다.\n",
    "\n",
    "---"
   ]
  },
  {
   "cell_type": "code",
   "execution_count": 10,
   "metadata": {},
   "outputs": [
    {
     "name": "stdout",
     "output_type": "stream",
     "text": [
      "2\n"
     ]
    }
   ],
   "source": [
    "# 첫째 줄에 N이 주어진다. (3 ≤ N ≤ 5000)\n",
    "N = int(input())\n",
    "\n",
    "for i in range (N//5, -1, -1):\n",
    "    remains = N - i*5\n",
    "    if remains % 3 == 0:\n",
    "        print(i + remains//3)\n",
    "        break\n",
    "    elif i == 0:\n",
    "        print(-1)"
   ]
  },
  {
   "cell_type": "markdown",
   "metadata": {},
   "source": [
    "---\n",
    "```맞았습니다!!```"
   ]
  },
  {
   "cell_type": "markdown",
   "metadata": {},
   "source": []
  }
 ],
 "metadata": {
  "kernelspec": {
   "display_name": "myenv",
   "language": "python",
   "name": "python3"
  },
  "language_info": {
   "codemirror_mode": {
    "name": "ipython",
    "version": 3
   },
   "file_extension": ".py",
   "mimetype": "text/x-python",
   "name": "python",
   "nbconvert_exporter": "python",
   "pygments_lexer": "ipython3",
   "version": "3.11.8"
  }
 },
 "nbformat": 4,
 "nbformat_minor": 2
}
