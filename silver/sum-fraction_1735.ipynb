{
 "cells": [
  {
   "cell_type": "code",
   "execution_count": 2,
   "metadata": {},
   "outputs": [
    {
     "name": "stdout",
     "output_type": "stream",
     "text": [
      "31 35\n"
     ]
    }
   ],
   "source": [
    "A, B = map(int, input().split())\n",
    "C, D = map(int, input().split())\n",
    "\n",
    "numer = A*D + C*B\n",
    "denomin = B*D\n",
    "\n",
    "def get_divisor(A, B):\n",
    "    while B != 0:\n",
    "        A, B = B, A%B\n",
    "    return A\n",
    "\n",
    "answer_n = numer // get_divisor(numer, denomin)\n",
    "answer_d = denomin // get_divisor(numer, denomin)\n",
    "\n",
    "print(f\"{answer_n} {answer_d}\")"
   ]
  },
  {
   "cell_type": "markdown",
   "metadata": {},
   "source": [
    "---\n",
    "```맞았습니다!!```"
   ]
  },
  {
   "cell_type": "code",
   "execution_count": null,
   "metadata": {},
   "outputs": [],
   "source": []
  }
 ],
 "metadata": {
  "kernelspec": {
   "display_name": "myenv",
   "language": "python",
   "name": "python3"
  },
  "language_info": {
   "codemirror_mode": {
    "name": "ipython",
    "version": 3
   },
   "file_extension": ".py",
   "mimetype": "text/x-python",
   "name": "python",
   "nbconvert_exporter": "python",
   "pygments_lexer": "ipython3",
   "version": "3.11.9"
  }
 },
 "nbformat": 4,
 "nbformat_minor": 2
}
