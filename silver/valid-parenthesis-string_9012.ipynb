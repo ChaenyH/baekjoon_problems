{
 "cells": [
  {
   "cell_type": "code",
   "execution_count": 1,
   "metadata": {},
   "outputs": [
    {
     "name": "stdout",
     "output_type": "stream",
     "text": [
      "NO\n",
      "NO\n",
      "YES\n",
      "NO\n",
      "YES\n",
      "NO\n"
     ]
    }
   ],
   "source": [
    "T = int(input())\n",
    "\n",
    "cases = []\n",
    "for _ in range (T):\n",
    "    cases.append(input())\n",
    "\n",
    "def is_vps(str):\n",
    "    str_list = list(str)\n",
    "    count = 0\n",
    "    for str in (str_list):\n",
    "        if str == \"(\":\n",
    "            count += 1\n",
    "        else:\n",
    "            count -= 1\n",
    "            if count < 0:\n",
    "                return 'NO'\n",
    "    if count != 0:\n",
    "        return 'NO'\n",
    "    else:\n",
    "        return 'YES'\n",
    "    \n",
    "for string in cases:\n",
    "    print(is_vps(string))"
   ]
  },
  {
   "cell_type": "markdown",
   "metadata": {},
   "source": [
    "---\n",
    "```맞았습니다!!```"
   ]
  },
  {
   "cell_type": "code",
   "execution_count": null,
   "metadata": {},
   "outputs": [],
   "source": []
  }
 ],
 "metadata": {
  "kernelspec": {
   "display_name": "myenv",
   "language": "python",
   "name": "python3"
  },
  "language_info": {
   "codemirror_mode": {
    "name": "ipython",
    "version": 3
   },
   "file_extension": ".py",
   "mimetype": "text/x-python",
   "name": "python",
   "nbconvert_exporter": "python",
   "pygments_lexer": "ipython3",
   "version": "3.11.9"
  }
 },
 "nbformat": 4,
 "nbformat_minor": 2
}
