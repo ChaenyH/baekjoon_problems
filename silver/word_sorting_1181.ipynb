{
 "cells": [
  {
   "cell_type": "markdown",
   "metadata": {},
   "source": [
    "# 단어 정렬\n",
    "- 시간 제한: 2 초\n",
    "\n",
    "## 문제\n",
    "알파벳 소문자로 이루어진 N개의 단어가 들어오면 아래와 같은 조건에 따라 정렬하는 프로그램을 작성하시오.\n",
    "\n",
    "1. 길이가 짧은 것부터\n",
    "2. 길이가 같으면 사전 순으로\n",
    "\n",
    "단, 중복된 단어는 하나만 남기고 제거해야 한다.\n",
    "\n",
    "### 입력\n",
    "첫째 줄에 단어의 개수 N이 주어진다. (1 ≤ N ≤ 20,000) <br>\n",
    "둘째 줄부터 N개의 줄에 걸쳐 알파벳 소문자로 이루어진 단어가 한 줄에 하나씩 주어진다. <br>\n",
    "주어지는 문자열의 길이는 50을 넘지 않는다.\n",
    "\n",
    "### 출력\n",
    "조건에 따라 정렬하여 단어들을 출력한다.\n",
    "\n",
    "#### 예제 입력 1 \n",
    "```\n",
    "13\n",
    "but\n",
    "i\n",
    "wont\n",
    "hesitate\n",
    "no\n",
    "more\n",
    "no\n",
    "more\n",
    "it\n",
    "cannot\n",
    "wait\n",
    "im\n",
    "yours\n",
    "```\n",
    "#### 예제 출력 1 \n",
    "```\n",
    "i\n",
    "im\n",
    "it\n",
    "no\n",
    "but\n",
    "more\n",
    "wait\n",
    "wont\n",
    "yours\n",
    "cannot\n",
    "hesitate\n",
    "```\n",
    "### 알고리즘 분류\n",
    "- 문자열\n",
    "- 정렬\n",
    "\n",
    "---"
   ]
  },
  {
   "cell_type": "code",
   "execution_count": 11,
   "metadata": {},
   "outputs": [
    {
     "name": "stdout",
     "output_type": "stream",
     "text": [
      "['no', 'yours', 'cannot', 'it', 'hesitate', 'wait', 'im', 'wont', 'i', 'but', 'more']\n"
     ]
    }
   ],
   "source": [
    "N = int(input())\n",
    "words = []\n",
    "for _ in range (N):\n",
    "    words.append(input())\n",
    "\n",
    "words = list(set(words))"
   ]
  },
  {
   "cell_type": "code",
   "execution_count": 15,
   "metadata": {},
   "outputs": [
    {
     "name": "stdout",
     "output_type": "stream",
     "text": [
      "['i', 'no', 'it', 'im', 'but', 'wait', 'wont', 'more', 'yours', 'cannot', 'hesitate']\n",
      "stage: ['i']\n",
      "answer: []\n",
      "stage: ['no']\n",
      "answer: ['i']\n",
      "stage: ['no', 'it']\n",
      "stage: ['no', 'it', 'im']\n",
      "stage: ['but']\n",
      "answer: ['i', 'im', 'it', 'no']\n",
      "stage: ['wait']\n",
      "answer: ['i', 'im', 'it', 'no', 'but']\n",
      "stage: ['wait', 'wont']\n",
      "stage: ['wait', 'wont', 'more']\n",
      "stage: ['yours']\n",
      "answer: ['i', 'im', 'it', 'no', 'but', 'more', 'wait', 'wont']\n",
      "stage: ['cannot']\n",
      "answer: ['i', 'im', 'it', 'no', 'but', 'more', 'wait', 'wont', 'yours']\n",
      "stage: ['hesitate']\n",
      "answer: ['i', 'im', 'it', 'no', 'but', 'more', 'wait', 'wont', 'yours', 'cannot']\n",
      "i\n",
      "im\n",
      "it\n",
      "no\n",
      "but\n",
      "more\n",
      "wait\n",
      "wont\n",
      "yours\n",
      "cannot\n",
      "hesitate\n"
     ]
    }
   ],
   "source": [
    "words.sort(key=lambda x: len(x))\n",
    "\n",
    "length = 0\n",
    "stage_list = []\n",
    "answer_list = []\n",
    "\n",
    "for word in words:\n",
    "    if len(word) == length:\n",
    "        stage_list.append(word)\n",
    "    else:\n",
    "        stage_list.sort()\n",
    "        answer_list += stage_list\n",
    "        stage_list = [word]\n",
    "        length = len(word)\n",
    "stage_list.sort()\n",
    "answer_list += stage_list\n",
    "\n",
    "for answer in answer_list:\n",
    "    print(answer)"
   ]
  },
  {
   "cell_type": "markdown",
   "metadata": {},
   "source": [
    "---\n",
    "```맞았습니다!!```"
   ]
  },
  {
   "cell_type": "markdown",
   "metadata": {},
   "source": []
  }
 ],
 "metadata": {
  "kernelspec": {
   "display_name": "myenv",
   "language": "python",
   "name": "python3"
  },
  "language_info": {
   "codemirror_mode": {
    "name": "ipython",
    "version": 3
   },
   "file_extension": ".py",
   "mimetype": "text/x-python",
   "name": "python",
   "nbconvert_exporter": "python",
   "pygments_lexer": "ipython3",
   "version": "3.11.9"
  }
 },
 "nbformat": 4,
 "nbformat_minor": 2
}
